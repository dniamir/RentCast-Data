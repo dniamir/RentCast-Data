{
 "cells": [
  {
   "cell_type": "markdown",
   "metadata": {},
   "source": [
    "# Imports"
   ]
  },
  {
   "cell_type": "code",
   "execution_count": null,
   "metadata": {},
   "outputs": [],
   "source": [
    "import numpy as np\n",
    "import pandas as pd\n",
    "import matplotlib.pyplot as plt\n",
    "import requests\n",
    "import copy\n",
    "import datetime\n",
    "from rentcast_dapi import *\n",
    "\n",
    "%load_ext autoreload\n",
    "%autoreload 2"
   ]
  },
  {
   "cell_type": "markdown",
   "metadata": {},
   "source": [
    "# RentCast Overview"
   ]
  },
  {
   "cell_type": "code",
   "execution_count": null,
   "metadata": {},
   "outputs": [],
   "source": [
    "# API docs - https://developers.rentcast.io/reference/introduction\n",
    "# Pricing - https://www.rentcast.io/api#api-pricing\n",
    "# Account Dashboard - https://app.rentcast.io/app/api\n",
    "\n",
    "rent_cast_api_key = 'fcc15170bef044e896b098360c6fe570'"
   ]
  },
  {
   "cell_type": "markdown",
   "metadata": {},
   "source": [
    "# Grab Data - Single Address"
   ]
  },
  {
   "cell_type": "code",
   "execution_count": null,
   "metadata": {},
   "outputs": [],
   "source": [
    "address = '1454 Jefferson Ave, Redwood City, CA, 94062'"
   ]
  },
  {
   "cell_type": "code",
   "execution_count": null,
   "metadata": {},
   "outputs": [],
   "source": [
    "url = 'https://api.rentcast.io/v1/properties'\n",
    "querystring = {'address': address}\n",
    "headers = {'accept': 'application/json', 'X-Api-Key': rent_cast_api_key}\n",
    "\n",
    "response = requests.get(url, headers=headers, params=querystring)\n",
    "response.json()"
   ]
  },
  {
   "cell_type": "markdown",
   "metadata": {},
   "source": [
    "# Use simple API wrapper"
   ]
  },
  {
   "cell_type": "code",
   "execution_count": null,
   "metadata": {},
   "outputs": [],
   "source": [
    "rcd = RentCastData(city='Atherton', offset_lim=1, api_key=rent_cast_api_key)\n",
    "rcd.data_processed"
   ]
  },
  {
   "cell_type": "markdown",
   "metadata": {},
   "source": [
    "# Grab Data - Lots of Listings per City"
   ]
  },
  {
   "cell_type": "code",
   "execution_count": null,
   "metadata": {},
   "outputs": [],
   "source": [
    "# Using Rentcast API\n",
    "\n",
    "city = 'Redwood City'\n",
    "city = 'Atherton'\n",
    "city = 'Portland'\n",
    "offsets = np.arange(0, 10, 1)\n",
    "df_all = None\n",
    "\n",
    "for offset in offsets:\n",
    "\n",
    "    # This is the max limit per query\n",
    "    # Offsets allow for grabbing more data, but will count as an additional query\n",
    "    limit = 500  \n",
    "\n",
    "    # Design query\n",
    "    url = 'https://api.rentcast.io/v1/properties'\n",
    "    querystring = {'city': city, 'state': 'OR', 'limit': limit, 'offset': offset * limit}\n",
    "    headers = {'accept': 'application/json', 'X-Api-Key': rent_cast_api_key}\n",
    "\n",
    "    # Get query\n",
    "    response = requests.get(url, headers=headers, params=querystring)\n",
    "    listings = response.json()\n",
    "\n",
    "\n",
    "\n",
    "    # Loop through results and create dataframe\n",
    "    for listing_loop in listings:\n",
    "\n",
    "        listing = copy.deepcopy(listing_loop)\n",
    "        listing_temp = copy.deepcopy(listing)\n",
    "\n",
    "        headers = ['id', 'addressLine1', 'addressLine2', 'city', 'state', \n",
    "                   'zipCode', 'county', 'latitude', 'longitude', 'squareFootage', \n",
    "                   'lotSize', 'yearBuilt', 'lastSaleDate', 'lastSalePrice', \n",
    "                   'bedrooms', 'bathrooms', 'propertyType']\n",
    "\n",
    "        for header in listing_temp:\n",
    "            if header not in headers:\n",
    "                del listing[header]\n",
    "            else:\n",
    "                listing[header] = [listing[header]]\n",
    "\n",
    "        df_temp = pd.DataFrame.from_dict(listing)\n",
    "        df_all = pd.concat([df_all, df_temp], ignore_index=True)"
   ]
  },
  {
   "cell_type": "markdown",
   "metadata": {},
   "source": [
    "# Save to CSV file"
   ]
  },
  {
   "cell_type": "code",
   "execution_count": null,
   "metadata": {},
   "outputs": [],
   "source": [
    "city = 'Redwood City'\n",
    "filename_city = city.replace(' ', '_').lower()\n",
    "df_all.to_csv('%s.csv' % filename_city)"
   ]
  },
  {
   "cell_type": "markdown",
   "metadata": {},
   "source": [
    "# Simple Plots"
   ]
  },
  {
   "cell_type": "code",
   "execution_count": null,
   "metadata": {},
   "outputs": [],
   "source": [
    "check1 = df['squareFootage'] > 1000\n",
    "check2 = df['squareFootage'] < 2000\n",
    "df_temp  = df[check1 & check2]\n",
    "# df_temp = df\n",
    "\n",
    "x = df_temp['months'].values / 12\n",
    "y = df_temp['price_per_sqft'].values\n",
    "\n",
    "# Avererages\n",
    "grouped_df = df_temp.groupby('months')['price_per_sqft'].mean().reset_index()\n",
    "x_avg = grouped_df['months'].values / 12\n",
    "y_avg = grouped_df['price_per_sqft'].values\n",
    "\n",
    "# y_average = df.average\n",
    "plt.figure(figsize=(10, 4))\n",
    "\n",
    "# plt.plot(x, y, lw=0, ms=2, marker='o', alpha=0.2)\n",
    "# plt.plot(x_avg, y_avg, lw=1, ms=0, marker='o', color='black', alpha=0.5)\n",
    "# plt.ylim([-10, 2000])\n",
    "\n",
    "plt.semilogy(x, y, lw=0, ms=2, marker='o', alpha=0.2)\n",
    "plt.semilogy(x_avg, y_avg, lw=1, ms=0, marker='o', color='black', alpha=0.5)\n",
    "plt.ylim([50, 2000])\n",
    "\n",
    "\n",
    "# plt.xlim([40, 60])\n",
    "\n",
    "# x labels\n",
    "int_labels = np.arange(0, 60, 2.5)\n",
    "n = len(int_labels)\n",
    "lsd = df['lastSaleDate'].values[0]\n",
    "dt = datetime.datetime.strptime(lsd, '%Y-%m-%dT%H:%M:%S.%fZ')\n",
    "dt_labels = [add_months(dt,x * 30) for x in range(n)]\n",
    "dt_labels = [dt_label.strftime('%m/%Y') for dt_label in dt_labels]\n",
    "plt.xticks(int_labels, dt_labels, rotation=45)\n",
    "\n",
    "plt.grid(True)"
   ]
  }
 ],
 "metadata": {
  "kernelspec": {
   "display_name": "env",
   "language": "python",
   "name": "python3"
  },
  "language_info": {
   "codemirror_mode": {
    "name": "ipython",
    "version": 3
   },
   "file_extension": ".py",
   "mimetype": "text/x-python",
   "name": "python",
   "nbconvert_exporter": "python",
   "pygments_lexer": "ipython3",
   "version": "3.12.1"
  }
 },
 "nbformat": 4,
 "nbformat_minor": 2
}
