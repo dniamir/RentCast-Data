{
 "cells": [
  {
   "cell_type": "markdown",
   "metadata": {},
   "source": [
    "# Imports"
   ]
  },
  {
   "cell_type": "code",
   "execution_count": null,
   "metadata": {},
   "outputs": [],
   "source": [
    "import numpy as np\n",
    "import pandas as pd\n",
    "import matplotlib.pyplot as plt\n",
    "import requests\n",
    "import copy\n",
    "import datetime\n",
    "from rentcast_dapi import *\n",
    "\n",
    "%load_ext autoreload\n",
    "%autoreload 2"
   ]
  },
  {
   "cell_type": "markdown",
   "metadata": {},
   "source": [
    "# RentCast Overview"
   ]
  },
  {
   "cell_type": "code",
   "execution_count": null,
   "metadata": {},
   "outputs": [],
   "source": [
    "# API docs - https://developers.rentcast.io/reference/introduction\n",
    "# Pricing - https://www.rentcast.io/api#api-pricing\n",
    "# Account Dashboard - https://app.rentcast.io/app/api\n",
    "\n",
    "rent_cast_api_key = 'fcc15170bef044e896b098360c6fe570'"
   ]
  },
  {
   "cell_type": "markdown",
   "metadata": {},
   "source": [
    "# Use simple API wrapper"
   ]
  },
  {
   "cell_type": "code",
   "execution_count": null,
   "metadata": {},
   "outputs": [],
   "source": [
    "rcd = RentCastData(city='Littleton', state='CO', offset_lim=1000, api_key=rent_cast_api_key)\n",
    "print(rcd.data_processed.shape)\n",
    "rcd.data_processed.head()"
   ]
  },
  {
   "cell_type": "code",
   "execution_count": null,
   "metadata": {},
   "outputs": [],
   "source": [
    "rcd.data_processed.head()"
   ]
  },
  {
   "cell_type": "code",
   "execution_count": null,
   "metadata": {},
   "outputs": [],
   "source": [
    "rcd = RentCastData(city='Woodside', state='CA', offset_lim=1000, api_key=rent_cast_api_key)\n",
    "print(rcd.data_processed.shape)\n",
    "rcd.data_processed.head()\n",
    "rcd.save_to_db(db_folder='./Data')"
   ]
  },
  {
   "cell_type": "markdown",
   "metadata": {},
   "source": [
    "# Show what data already exists in the SQL database"
   ]
  },
  {
   "cell_type": "code",
   "execution_count": null,
   "metadata": {},
   "outputs": [],
   "source": [
    "dataset_path = './Data/CA'"
   ]
  },
  {
   "cell_type": "code",
   "execution_count": null,
   "metadata": {},
   "outputs": [],
   "source": [
    "# Connect to the SQLite database\n",
    "conn = sqlite3.connect(dataset_path + '.db')\n",
    "\n",
    "# Query to get all table names\n",
    "query = \"SELECT name FROM sqlite_master WHERE type='table';\"\n",
    "\n",
    "# Use pandas to execute the query and fetch the table names into a DataFrame\n",
    "tables_df = pd.read_sql_query(query, conn)\n",
    "\n",
    "# Extract the table names from the DataFrame\n",
    "table_names = tables_df['name'].tolist()\n",
    "table_names.sort()\n",
    "\n",
    "# Close the connection\n",
    "conn.close()\n",
    "\n",
    "# Display the list of tables\n",
    "print(table_names)"
   ]
  },
  {
   "cell_type": "code",
   "execution_count": null,
   "metadata": {},
   "outputs": [],
   "source": [
    "rcd.querystring['city']"
   ]
  },
  {
   "cell_type": "markdown",
   "metadata": {},
   "source": [
    "# Read data in from a SQL database"
   ]
  },
  {
   "cell_type": "code",
   "execution_count": null,
   "metadata": {},
   "outputs": [],
   "source": [
    "rcd = RentCastData.open_db(db_folder='./Data', city='Redwood City', state='CA')\n",
    "# rcd = RentCastData.open_db(db_folder='./Data', city='Littleton', state='CO')"
   ]
  },
  {
   "cell_type": "code",
   "execution_count": null,
   "metadata": {},
   "outputs": [],
   "source": [
    "rcd = RentCastData.open_db(db_folder='./Data', city='Woodside', state='CA')"
   ]
  },
  {
   "cell_type": "markdown",
   "metadata": {},
   "source": [
    "# Simple Plots"
   ]
  },
  {
   "cell_type": "code",
   "execution_count": null,
   "metadata": {},
   "outputs": [],
   "source": [
    "df = rcd.parse_sale_date2(rcd.data_processed)\n",
    "\n",
    "check1 = df['squareFootage'] > 1000\n",
    "check2 = df['squareFootage'] < 3000\n",
    "df_temp  = df[check1 & check2]\n",
    "# df_temp = df\n",
    "\n",
    "x = df_temp['months'].values / 12\n",
    "y = df_temp['price_per_sqft'].values\n",
    "\n",
    "# Avererages\n",
    "grouped_df = df_temp.groupby('months')['price_per_sqft'].mean().reset_index()\n",
    "x_avg = grouped_df['months'].values / 12\n",
    "y_avg = grouped_df['price_per_sqft'].values\n",
    "\n",
    "# y_average = df.average\n",
    "plt.figure(figsize=(10, 4))\n",
    "\n",
    "# plt.plot(x, y, lw=0, ms=2, marker='o', alpha=0.2)\n",
    "# plt.plot(x_avg, y_avg, lw=1, ms=0, marker='o', color='black', alpha=0.5)\n",
    "# plt.ylim([-10, 2000])\n",
    "\n",
    "plt.semilogy(x, y, lw=0, ms=2, marker='o', alpha=0.1)\n",
    "plt.semilogy(x_avg, y_avg, lw=1, ms=0, marker='o', color='black', alpha=0.5)\n",
    "plt.ylim([50, 2000])\n",
    "\n",
    "\n",
    "# plt.xlim([40, 60])\n",
    "\n",
    "# x labels\n",
    "int_labels = np.arange(0, 60, 2.5)\n",
    "n = len(int_labels)\n",
    "lsd = df['lastSaleDate'].values[0]\n",
    "dt = datetime.datetime.strptime(lsd, '%Y-%m-%dT%H:%M:%S.%fZ')\n",
    "dt_labels = [rcd.add_months(dt, x * 30) for x in range(n)]\n",
    "dt_labels = [dt_label.strftime('%m/%Y') for dt_label in dt_labels]\n",
    "plt.xticks(int_labels, dt_labels, rotation=45)\n",
    "plt.yticks([10, 30, 100, 300, 1000], [10, 30, 100, 300, 1000])\n",
    "\n",
    "plt.title('Price per SQFT - Redwood City')\n",
    "plt.ylabel('Price per SQFT ($)')\n",
    "plt.xlabel('Time')\n",
    "plt.grid(True)\n",
    "# plt.xlim([40, 55])"
   ]
  },
  {
   "cell_type": "code",
   "execution_count": null,
   "metadata": {},
   "outputs": [],
   "source": [
    "df = rcd.parse_sale_date2(rcd.data_processed)\n",
    "\n",
    "check1 = df['squareFootage'] > 1000\n",
    "check2 = df['squareFootage'] < 2000\n",
    "df_temp  = df[check1 & check2]\n",
    "# df_temp = df\n",
    "\n",
    "x = df_temp['months'].values / 12\n",
    "y = df_temp['price_per_sqft'].values\n",
    "\n",
    "# Avererages\n",
    "grouped_df = df_temp.groupby('months')['price_per_sqft'].mean().reset_index()\n",
    "x_avg = grouped_df['months'].values / 12\n",
    "y_avg = grouped_df['price_per_sqft'].values\n",
    "\n",
    "# y_average = df.average\n",
    "plt.figure(figsize=(10, 4))\n",
    "\n",
    "plt.plot(x, y, lw=0, ms=2, marker='o', alpha=0.2)\n",
    "plt.plot(x_avg, y_avg, lw=1, ms=0, marker='o', color='black', alpha=0.5)\n",
    "plt.ylim([-10, 2000])\n",
    "\n",
    "# plt.semilogy(x, y, lw=0, ms=2, marker='o', alpha=0.2)\n",
    "# plt.semilogy(x_avg, y_avg, lw=1, ms=0, marker='o', color='black', alpha=0.5)\n",
    "# plt.ylim([50, 2000])\n",
    "\n",
    "\n",
    "# plt.xlim([40, 60])\n",
    "\n",
    "# x labels\n",
    "int_labels = np.arange(0, 60, 2.5)\n",
    "n = len(int_labels)\n",
    "lsd = df['lastSaleDate'].values[0]\n",
    "dt = datetime.datetime.strptime(lsd, '%Y-%m-%dT%H:%M:%S.%fZ')\n",
    "dt_labels = [rcd.add_months(dt, x * 30) for x in range(n)]\n",
    "dt_labels = [dt_label.strftime('%m/%Y') for dt_label in dt_labels]\n",
    "plt.xticks(int_labels, dt_labels, rotation=45)\n",
    "\n",
    "plt.grid(True)"
   ]
  },
  {
   "cell_type": "markdown",
   "metadata": {},
   "source": [
    "# Plot several cities"
   ]
  },
  {
   "cell_type": "code",
   "execution_count": null,
   "metadata": {},
   "outputs": [],
   "source": [
    "dataset_path = './Data/CA'\n",
    "\n",
    "# Connect to the SQLite database\n",
    "conn = sqlite3.connect(dataset_path + '.db')\n",
    "\n",
    "# Query to get all table names\n",
    "query = \"SELECT name FROM sqlite_master WHERE type='table';\"\n",
    "\n",
    "# Use pandas to execute the query and fetch the table names into a DataFrame\n",
    "tables_df = pd.read_sql_query(query, conn)\n",
    "\n",
    "# Extract the table names from the DataFrame\n",
    "table_names = tables_df['name'].tolist()\n",
    "table_names.sort()\n",
    "\n",
    "# Close the connection\n",
    "conn.close()\n",
    "\n",
    "# Display the list of tables\n",
    "print(table_names)"
   ]
  },
  {
   "cell_type": "code",
   "execution_count": null,
   "metadata": {},
   "outputs": [],
   "source": [
    "def sos_filter(y, fs, fc, highlow='low', order=1):\n",
    "    y = np.array(y)\n",
    "    length = len(y)\n",
    "    y_temp = np.append(y[::-1], np.append(y, y[::-1]))\n",
    "    sos = signal.butter(fs=fs, Wn=fc, N=order, output='sos', btype=highlow)\n",
    "    y_sos = signal.sosfiltfilt(sos, y_temp)\n",
    "    y_sos = y_sos[length:length*2]\n",
    "\n",
    "    return y_sos"
   ]
  },
  {
   "cell_type": "code",
   "execution_count": null,
   "metadata": {},
   "outputs": [],
   "source": [
    "cities1 = ['atherton_ca', 'los_altos_ca', 'menlo_park_ca', 'redwood_city_ca', 'woodside_ca']\n",
    "cities2 = ['belmont_ca', 'mountain_view_ca', 'palo_alto_ca', 'redwood_city_ca', 'san_carlos_ca', 'san_mateo_ca']"
   ]
  },
  {
   "cell_type": "code",
   "execution_count": null,
   "metadata": {},
   "outputs": [],
   "source": [
    "filter = True\n",
    "\n",
    "plt.figure(figsize=(10, 4))\n",
    "\n",
    "for index, table_name in enumerate(table_names):\n",
    "\n",
    "    table_name_split = table_name.split('_')\n",
    "    state = table_name_split[-1]\n",
    "    city = \" \".join(table_name_split[:-1])\n",
    "    label = '%s - %s' % (city.title(), state.upper())\n",
    "\n",
    "    rcd = RentCastData.open_db(db_folder='./Data', city=city, state=state)\n",
    "    df = rcd.parse_sale_date2(rcd.data_processed)\n",
    "    \n",
    "    check1 = df['squareFootage'] > 1000\n",
    "    check2 = df['squareFootage'] < 2000\n",
    "    df_temp  = df[check1 & check2]\n",
    "    # df_temp = df\n",
    "\n",
    "    x = df_temp['months'].values / 12\n",
    "    y = df_temp['price_per_sqft'].values\n",
    "\n",
    "    # Avererages\n",
    "    grouped_df = df_temp.groupby('months')['price_per_sqft'].mean().reset_index()\n",
    "    x_avg = grouped_df['months'].values / 12\n",
    "    y_avg = grouped_df['price_per_sqft'].values\n",
    "\n",
    "    # y_average = df.average\n",
    "\n",
    "    # plt.plot(x, y, lw=0, ms=2, marker='o', alpha=0.2)\n",
    "    \n",
    "\n",
    "    if filter:\n",
    "        y_filt = sos_filter(y_avg, 1, 0.03, highlow='low', order=1)\n",
    "        plt.semilogy(x_avg, y_filt, lw=2, ms=0, marker='o', alpha=0.8, label=label)\n",
    "    else:\n",
    "        plt.semilogy(x_avg, y_avg, lw=1, ms=0, marker='o', alpha=0.8, label=label)\n",
    "\n",
    "    plt.ylim([50, 3000])\n",
    "\n",
    "    # plt.xlim([40, 60])\n",
    "\n",
    "    # x labels\n",
    "    int_labels = np.arange(0, 60, 2.5)\n",
    "    n = len(int_labels)\n",
    "    lsd = df['lastSaleDate'].values[0]\n",
    "    dt = datetime.datetime.strptime(lsd, '%Y-%m-%dT%H:%M:%S.%fZ')\n",
    "    dt_labels = [rcd.add_months(dt, x * 30) for x in range(n)]\n",
    "    dt_labels = [dt_label.strftime('%m/%Y') for dt_label in dt_labels]\n",
    "    plt.xticks(int_labels, dt_labels, rotation=45)\n",
    "    plt.yticks([10, 30, 100, 300, 1000], [10, 30, 100, 300, 1000])\n",
    "\n",
    "    plt.title('Price per SQFT')\n",
    "    plt.ylabel('Price per SQFT ($)')\n",
    "    plt.xlabel('Time')\n",
    "    plt.grid(True)\n",
    "\n",
    "    # if index == 5:\n",
    "    #     break\n",
    "\n",
    "plt.legend(loc='best', ncol=2)"
   ]
  },
  {
   "cell_type": "code",
   "execution_count": null,
   "metadata": {},
   "outputs": [],
   "source": [
    "filter = True\n",
    "\n",
    "for table_names in [cities1, cities2]:\n",
    "\n",
    "    plt.figure(figsize=(10, 4))\n",
    "\n",
    "    for index, table_name in enumerate(table_names):\n",
    "\n",
    "        table_name_split = table_name.split('_')\n",
    "        state = table_name_split[-1]\n",
    "        city = \" \".join(table_name_split[:-1])\n",
    "        label = '%s - %s' % (city.title(), state.upper())\n",
    "\n",
    "        rcd = RentCastData.open_db(db_folder='./Data', city=city, state=state)\n",
    "        df = rcd.parse_sale_date2(rcd.data_processed)\n",
    "        \n",
    "        check1 = df['squareFootage'] > 1000\n",
    "        check2 = df['squareFootage'] < 2000\n",
    "        df_temp  = df[check1 & check2]\n",
    "        # df_temp = df\n",
    "\n",
    "        x = df_temp['months'].values / 12\n",
    "        y = df_temp['price_per_sqft'].values\n",
    "\n",
    "        # Avererages\n",
    "        grouped_df = df_temp.groupby('months')['price_per_sqft'].mean().reset_index()\n",
    "        x_avg = grouped_df['months'].values / 12\n",
    "        y_avg = grouped_df['price_per_sqft'].values\n",
    "        \n",
    "        # Filter and plot results\n",
    "        if filter:\n",
    "            y_filt = sos_filter(y_avg, 1, 0.03, highlow='low', order=1)\n",
    "            plt.semilogy(x_avg, y_filt, lw=2, ms=0, marker='o', alpha=0.8, label=label)\n",
    "        else:\n",
    "            plt.semilogy(x_avg, y_avg, lw=1, ms=0, marker='o', alpha=0.8, label=label)\n",
    "\n",
    "        plt.ylim([50, 3000])\n",
    "\n",
    "        # x labels\n",
    "        int_labels = np.arange(0, 60, 2.5)\n",
    "        n = len(int_labels)\n",
    "        lsd = df['lastSaleDate'].values[0]\n",
    "        dt = datetime.datetime.strptime(lsd, '%Y-%m-%dT%H:%M:%S.%fZ')\n",
    "        dt_labels = [rcd.add_months(dt, x * 30) for x in range(n)]\n",
    "        dt_labels = [dt_label.strftime('%m/%Y') for dt_label in dt_labels]\n",
    "        plt.xticks(int_labels, dt_labels, rotation=45)\n",
    "        plt.yticks([10, 30, 100, 300, 1000], [10, 30, 100, 300, 1000])\n",
    "\n",
    "        plt.title('Price per SQFT')\n",
    "        plt.ylabel('Price per SQFT ($)')\n",
    "        plt.xlabel('Time')\n",
    "        plt.grid(True)\n",
    "\n",
    "    plt.legend(loc='best', ncol=2)"
   ]
  }
 ],
 "metadata": {
  "kernelspec": {
   "display_name": "env",
   "language": "python",
   "name": "python3"
  },
  "language_info": {
   "codemirror_mode": {
    "name": "ipython",
    "version": 3
   },
   "file_extension": ".py",
   "mimetype": "text/x-python",
   "name": "python",
   "nbconvert_exporter": "python",
   "pygments_lexer": "ipython3",
   "version": "3.12.1"
  }
 },
 "nbformat": 4,
 "nbformat_minor": 2
}
